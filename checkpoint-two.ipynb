{
 "cells": [
  {
   "cell_type": "markdown",
   "metadata": {
    "azdata_cell_guid": "151601c9-ca7a-412e-af80-c62a87e0837e"
   },
   "source": [
    "# Checkpoint Two: Exploratory Data Analysis\n",
    "\n",
    "Now that your chosen dataset is approved, it is time to start working on your analysis. Use this notebook to perform your EDA and make notes where directed to as you work.\n",
    "\n",
    "## Getting Started\n",
    "\n",
    "Since we have not provided your dataset for you, you will need to load the necessary files in this repository. Make sure to include a link back to the original dataset here as well.\n",
    "\n",
    "My dataset: https://www.kaggle.com/datasets/nitishsharma01/olympics-124-years-datasettill-2020\n",
    "\n",
    "Your first task in EDA is to import necessary libraries and create a dataframe(s). Make note in the form of code comments of what your thought process is as you work on this setup task."
   ]
  },
  {
   "cell_type": "markdown",
   "metadata": {},
   "source": [
    "# Importing all necessary libraries"
   ]
  },
  {
   "cell_type": "code",
   "execution_count": 151,
   "metadata": {
    "azdata_cell_guid": "7b503e37-6df5-4433-acfb-678b1346db14"
   },
   "outputs": [
    {
     "data": {
      "text/html": [
       "<div>\n",
       "<style scoped>\n",
       "    .dataframe tbody tr th:only-of-type {\n",
       "        vertical-align: middle;\n",
       "    }\n",
       "\n",
       "    .dataframe tbody tr th {\n",
       "        vertical-align: top;\n",
       "    }\n",
       "\n",
       "    .dataframe thead th {\n",
       "        text-align: right;\n",
       "    }\n",
       "</style>\n",
       "<table border=\"1\" class=\"dataframe\">\n",
       "  <thead>\n",
       "    <tr style=\"text-align: right;\">\n",
       "      <th></th>\n",
       "      <th>Unnamed: 0</th>\n",
       "      <th>Name</th>\n",
       "      <th>Sex</th>\n",
       "      <th>Age</th>\n",
       "      <th>Team</th>\n",
       "      <th>NOC</th>\n",
       "      <th>Games</th>\n",
       "      <th>Year</th>\n",
       "      <th>Season</th>\n",
       "      <th>City</th>\n",
       "      <th>Sport</th>\n",
       "      <th>Event</th>\n",
       "      <th>Medal</th>\n",
       "    </tr>\n",
       "  </thead>\n",
       "  <tbody>\n",
       "    <tr>\n",
       "      <th>0</th>\n",
       "      <td>4</td>\n",
       "      <td>Christine Jacoba Aaftink</td>\n",
       "      <td>F</td>\n",
       "      <td>21.0</td>\n",
       "      <td>Netherlands</td>\n",
       "      <td>NED</td>\n",
       "      <td>1988 Winter</td>\n",
       "      <td>1988</td>\n",
       "      <td>Winter</td>\n",
       "      <td>Calgary</td>\n",
       "      <td>Speed Skating</td>\n",
       "      <td>Speed Skating Women's 500 metres</td>\n",
       "      <td>NaN</td>\n",
       "    </tr>\n",
       "    <tr>\n",
       "      <th>1</th>\n",
       "      <td>5</td>\n",
       "      <td>Christine Jacoba Aaftink</td>\n",
       "      <td>F</td>\n",
       "      <td>21.0</td>\n",
       "      <td>Netherlands</td>\n",
       "      <td>NED</td>\n",
       "      <td>1988 Winter</td>\n",
       "      <td>1988</td>\n",
       "      <td>Winter</td>\n",
       "      <td>Calgary</td>\n",
       "      <td>Speed Skating</td>\n",
       "      <td>Speed Skating Women's 1,000 metres</td>\n",
       "      <td>NaN</td>\n",
       "    </tr>\n",
       "    <tr>\n",
       "      <th>2</th>\n",
       "      <td>6</td>\n",
       "      <td>Christine Jacoba Aaftink</td>\n",
       "      <td>F</td>\n",
       "      <td>25.0</td>\n",
       "      <td>Netherlands</td>\n",
       "      <td>NED</td>\n",
       "      <td>1992 Winter</td>\n",
       "      <td>1992</td>\n",
       "      <td>Winter</td>\n",
       "      <td>Albertville</td>\n",
       "      <td>Speed Skating</td>\n",
       "      <td>Speed Skating Women's 500 metres</td>\n",
       "      <td>NaN</td>\n",
       "    </tr>\n",
       "    <tr>\n",
       "      <th>3</th>\n",
       "      <td>7</td>\n",
       "      <td>Christine Jacoba Aaftink</td>\n",
       "      <td>F</td>\n",
       "      <td>25.0</td>\n",
       "      <td>Netherlands</td>\n",
       "      <td>NED</td>\n",
       "      <td>1992 Winter</td>\n",
       "      <td>1992</td>\n",
       "      <td>Winter</td>\n",
       "      <td>Albertville</td>\n",
       "      <td>Speed Skating</td>\n",
       "      <td>Speed Skating Women's 1,000 metres</td>\n",
       "      <td>NaN</td>\n",
       "    </tr>\n",
       "    <tr>\n",
       "      <th>4</th>\n",
       "      <td>8</td>\n",
       "      <td>Christine Jacoba Aaftink</td>\n",
       "      <td>F</td>\n",
       "      <td>27.0</td>\n",
       "      <td>Netherlands</td>\n",
       "      <td>NED</td>\n",
       "      <td>1994 Winter</td>\n",
       "      <td>1994</td>\n",
       "      <td>Winter</td>\n",
       "      <td>Lillehammer</td>\n",
       "      <td>Speed Skating</td>\n",
       "      <td>Speed Skating Women's 500 metres</td>\n",
       "      <td>NaN</td>\n",
       "    </tr>\n",
       "    <tr>\n",
       "      <th>5</th>\n",
       "      <td>9</td>\n",
       "      <td>Christine Jacoba Aaftink</td>\n",
       "      <td>F</td>\n",
       "      <td>27.0</td>\n",
       "      <td>Netherlands</td>\n",
       "      <td>NED</td>\n",
       "      <td>1994 Winter</td>\n",
       "      <td>1994</td>\n",
       "      <td>Winter</td>\n",
       "      <td>Lillehammer</td>\n",
       "      <td>Speed Skating</td>\n",
       "      <td>Speed Skating Women's 1,000 metres</td>\n",
       "      <td>NaN</td>\n",
       "    </tr>\n",
       "    <tr>\n",
       "      <th>6</th>\n",
       "      <td>10</td>\n",
       "      <td>Per Knut Aaland</td>\n",
       "      <td>M</td>\n",
       "      <td>31.0</td>\n",
       "      <td>United States</td>\n",
       "      <td>USA</td>\n",
       "      <td>1992 Winter</td>\n",
       "      <td>1992</td>\n",
       "      <td>Winter</td>\n",
       "      <td>Albertville</td>\n",
       "      <td>Cross Country Skiing</td>\n",
       "      <td>Cross Country Skiing Men's 10 kilometres</td>\n",
       "      <td>NaN</td>\n",
       "    </tr>\n",
       "    <tr>\n",
       "      <th>7</th>\n",
       "      <td>11</td>\n",
       "      <td>Per Knut Aaland</td>\n",
       "      <td>M</td>\n",
       "      <td>31.0</td>\n",
       "      <td>United States</td>\n",
       "      <td>USA</td>\n",
       "      <td>1992 Winter</td>\n",
       "      <td>1992</td>\n",
       "      <td>Winter</td>\n",
       "      <td>Albertville</td>\n",
       "      <td>Cross Country Skiing</td>\n",
       "      <td>Cross Country Skiing Men's 50 kilometres</td>\n",
       "      <td>NaN</td>\n",
       "    </tr>\n",
       "    <tr>\n",
       "      <th>8</th>\n",
       "      <td>12</td>\n",
       "      <td>Per Knut Aaland</td>\n",
       "      <td>M</td>\n",
       "      <td>31.0</td>\n",
       "      <td>United States</td>\n",
       "      <td>USA</td>\n",
       "      <td>1992 Winter</td>\n",
       "      <td>1992</td>\n",
       "      <td>Winter</td>\n",
       "      <td>Albertville</td>\n",
       "      <td>Cross Country Skiing</td>\n",
       "      <td>Cross Country Skiing Men's 10/15 kilometres Pu...</td>\n",
       "      <td>NaN</td>\n",
       "    </tr>\n",
       "    <tr>\n",
       "      <th>9</th>\n",
       "      <td>13</td>\n",
       "      <td>Per Knut Aaland</td>\n",
       "      <td>M</td>\n",
       "      <td>31.0</td>\n",
       "      <td>United States</td>\n",
       "      <td>USA</td>\n",
       "      <td>1992 Winter</td>\n",
       "      <td>1992</td>\n",
       "      <td>Winter</td>\n",
       "      <td>Albertville</td>\n",
       "      <td>Cross Country Skiing</td>\n",
       "      <td>Cross Country Skiing Men's 4 x 10 kilometres R...</td>\n",
       "      <td>NaN</td>\n",
       "    </tr>\n",
       "  </tbody>\n",
       "</table>\n",
       "</div>"
      ],
      "text/plain": [
       "   Unnamed: 0                      Name Sex   Age           Team  NOC  \\\n",
       "0           4  Christine Jacoba Aaftink   F  21.0    Netherlands  NED   \n",
       "1           5  Christine Jacoba Aaftink   F  21.0    Netherlands  NED   \n",
       "2           6  Christine Jacoba Aaftink   F  25.0    Netherlands  NED   \n",
       "3           7  Christine Jacoba Aaftink   F  25.0    Netherlands  NED   \n",
       "4           8  Christine Jacoba Aaftink   F  27.0    Netherlands  NED   \n",
       "5           9  Christine Jacoba Aaftink   F  27.0    Netherlands  NED   \n",
       "6          10           Per Knut Aaland   M  31.0  United States  USA   \n",
       "7          11           Per Knut Aaland   M  31.0  United States  USA   \n",
       "8          12           Per Knut Aaland   M  31.0  United States  USA   \n",
       "9          13           Per Knut Aaland   M  31.0  United States  USA   \n",
       "\n",
       "         Games  Year  Season         City                 Sport  \\\n",
       "0  1988 Winter  1988  Winter      Calgary         Speed Skating   \n",
       "1  1988 Winter  1988  Winter      Calgary         Speed Skating   \n",
       "2  1992 Winter  1992  Winter  Albertville         Speed Skating   \n",
       "3  1992 Winter  1992  Winter  Albertville         Speed Skating   \n",
       "4  1994 Winter  1994  Winter  Lillehammer         Speed Skating   \n",
       "5  1994 Winter  1994  Winter  Lillehammer         Speed Skating   \n",
       "6  1992 Winter  1992  Winter  Albertville  Cross Country Skiing   \n",
       "7  1992 Winter  1992  Winter  Albertville  Cross Country Skiing   \n",
       "8  1992 Winter  1992  Winter  Albertville  Cross Country Skiing   \n",
       "9  1992 Winter  1992  Winter  Albertville  Cross Country Skiing   \n",
       "\n",
       "                                               Event Medal  \n",
       "0                   Speed Skating Women's 500 metres   NaN  \n",
       "1                 Speed Skating Women's 1,000 metres   NaN  \n",
       "2                   Speed Skating Women's 500 metres   NaN  \n",
       "3                 Speed Skating Women's 1,000 metres   NaN  \n",
       "4                   Speed Skating Women's 500 metres   NaN  \n",
       "5                 Speed Skating Women's 1,000 metres   NaN  \n",
       "6           Cross Country Skiing Men's 10 kilometres   NaN  \n",
       "7           Cross Country Skiing Men's 50 kilometres   NaN  \n",
       "8  Cross Country Skiing Men's 10/15 kilometres Pu...   NaN  \n",
       "9  Cross Country Skiing Men's 4 x 10 kilometres R...   NaN  "
      ]
     },
     "execution_count": 151,
     "metadata": {},
     "output_type": "execute_result"
    }
   ],
   "source": [
    "\n",
    "import pandas as pd\n",
    "import seaborn as sns\n",
    "import numpy as np\n",
    "import matplotlib.pyplot as plt\n",
    "from matplotlib import style\n",
    "style.use('ggplot')\n",
    "plt.rcParams['figure.figsize'] = (20,10)\n",
    "\n",
    "# read csv file\n",
    "winter_games_df = pd.read_csv(\"Athletes_winter_games.csv\")\n",
    "winter_games_df.head(10)"
   ]
  },
  {
   "cell_type": "markdown",
   "metadata": {
    "azdata_cell_guid": "129ce836-524b-4ea8-b394-a959f9308d6a"
   },
   "source": [
    "## Get to Know the Numbers\n",
    "\n",
    "Now that you have everything setup, put any code that you use to get to know the dataframe and its rows and columns better in the cell below. You can use whatever techniques you like, except for visualizations. You will put those in a separate section.\n",
    "\n",
    "When working on your code, make sure to leave comments so that your mentors can understand your thought process."
   ]
  },
  {
   "cell_type": "code",
   "execution_count": 152,
   "metadata": {},
   "outputs": [
    {
     "data": {
      "text/plain": [
       "(48564, 13)"
      ]
     },
     "execution_count": 152,
     "metadata": {},
     "output_type": "execute_result"
    }
   ],
   "source": [
    "# know the number of rows and columns that are present in winter games dataframe.\n",
    "winter_games_df.shape"
   ]
  },
  {
   "cell_type": "code",
   "execution_count": 153,
   "metadata": {},
   "outputs": [
    {
     "data": {
      "text/plain": [
       "Index(['Unnamed: 0', 'Name', 'Sex', 'Age', 'Team', 'NOC', 'Games', 'Year',\n",
       "       'Season', 'City', 'Sport', 'Event', 'Medal'],\n",
       "      dtype='object')"
      ]
     },
     "execution_count": 153,
     "metadata": {},
     "output_type": "execute_result"
    }
   ],
   "source": [
    "# Know the column names in winter games dataframe.\n",
    "winter_games_df.columns"
   ]
  },
  {
   "cell_type": "code",
   "execution_count": 154,
   "metadata": {
    "azdata_cell_guid": "0ca2d318-f6e8-43ef-a33e-5304d24d928d",
    "tags": []
   },
   "outputs": [
    {
     "name": "stdout",
     "output_type": "stream",
     "text": [
      "<class 'pandas.core.frame.DataFrame'>\n",
      "RangeIndex: 48564 entries, 0 to 48563\n",
      "Data columns (total 13 columns):\n",
      " #   Column      Non-Null Count  Dtype  \n",
      "---  ------      --------------  -----  \n",
      " 0   Unnamed: 0  48564 non-null  int64  \n",
      " 1   Name        48564 non-null  object \n",
      " 2   Sex         48564 non-null  object \n",
      " 3   Age         48279 non-null  float64\n",
      " 4   Team        48564 non-null  object \n",
      " 5   NOC         48564 non-null  object \n",
      " 6   Games       48564 non-null  object \n",
      " 7   Year        48564 non-null  int64  \n",
      " 8   Season      48564 non-null  object \n",
      " 9   City        48564 non-null  object \n",
      " 10  Sport       48564 non-null  object \n",
      " 11  Event       48564 non-null  object \n",
      " 12  Medal       5695 non-null   object \n",
      "dtypes: float64(1), int64(2), object(10)\n",
      "memory usage: 4.8+ MB\n"
     ]
    }
   ],
   "source": [
    "# Know the information such as each column names,data type,non null count of each columns in winter games dataframe.\n",
    "\n",
    "winter_games_df.info()"
   ]
  },
  {
   "cell_type": "code",
   "execution_count": 155,
   "metadata": {},
   "outputs": [
    {
     "name": "stdout",
     "output_type": "stream",
     "text": [
      "Index(['Unnamed: 0', 'Age', 'Year'], dtype='object')\n",
      "Index(['Name', 'Sex', 'Team', 'NOC', 'Games', 'Season', 'City', 'Sport',\n",
      "       'Event', 'Medal'],\n",
      "      dtype='object')\n"
     ]
    }
   ],
   "source": [
    "# Know the numerical and categorical columns in winter games dataframe.\n",
    "numeric_cols = winter_games_df.select_dtypes(include=['number']).columns\n",
    "print(numeric_cols)\n",
    "\n",
    "non_numeric_cols = winter_games_df.select_dtypes(exclude=['number']).columns\n",
    "print(non_numeric_cols)"
   ]
  },
  {
   "cell_type": "code",
   "execution_count": 156,
   "metadata": {},
   "outputs": [
    {
     "data": {
      "text/html": [
       "<div>\n",
       "<style scoped>\n",
       "    .dataframe tbody tr th:only-of-type {\n",
       "        vertical-align: middle;\n",
       "    }\n",
       "\n",
       "    .dataframe tbody tr th {\n",
       "        vertical-align: top;\n",
       "    }\n",
       "\n",
       "    .dataframe thead th {\n",
       "        text-align: right;\n",
       "    }\n",
       "</style>\n",
       "<table border=\"1\" class=\"dataframe\">\n",
       "  <thead>\n",
       "    <tr style=\"text-align: right;\">\n",
       "      <th></th>\n",
       "      <th>Unnamed: 0</th>\n",
       "      <th>Age</th>\n",
       "      <th>Year</th>\n",
       "    </tr>\n",
       "  </thead>\n",
       "  <tbody>\n",
       "    <tr>\n",
       "      <th>count</th>\n",
       "      <td>48564.000000</td>\n",
       "      <td>48279.000000</td>\n",
       "      <td>48564.000000</td>\n",
       "    </tr>\n",
       "    <tr>\n",
       "      <th>mean</th>\n",
       "      <td>137838.979059</td>\n",
       "      <td>25.039147</td>\n",
       "      <td>1987.825097</td>\n",
       "    </tr>\n",
       "    <tr>\n",
       "      <th>std</th>\n",
       "      <td>77152.638568</td>\n",
       "      <td>4.777735</td>\n",
       "      <td>22.070100</td>\n",
       "    </tr>\n",
       "    <tr>\n",
       "      <th>min</th>\n",
       "      <td>4.000000</td>\n",
       "      <td>11.000000</td>\n",
       "      <td>1924.000000</td>\n",
       "    </tr>\n",
       "    <tr>\n",
       "      <th>25%</th>\n",
       "      <td>73357.750000</td>\n",
       "      <td>22.000000</td>\n",
       "      <td>1972.000000</td>\n",
       "    </tr>\n",
       "    <tr>\n",
       "      <th>50%</th>\n",
       "      <td>134752.500000</td>\n",
       "      <td>24.000000</td>\n",
       "      <td>1994.000000</td>\n",
       "    </tr>\n",
       "    <tr>\n",
       "      <th>75%</th>\n",
       "      <td>205753.250000</td>\n",
       "      <td>28.000000</td>\n",
       "      <td>2006.000000</td>\n",
       "    </tr>\n",
       "    <tr>\n",
       "      <th>max</th>\n",
       "      <td>271115.000000</td>\n",
       "      <td>58.000000</td>\n",
       "      <td>2014.000000</td>\n",
       "    </tr>\n",
       "  </tbody>\n",
       "</table>\n",
       "</div>"
      ],
      "text/plain": [
       "          Unnamed: 0           Age          Year\n",
       "count   48564.000000  48279.000000  48564.000000\n",
       "mean   137838.979059     25.039147   1987.825097\n",
       "std     77152.638568      4.777735     22.070100\n",
       "min         4.000000     11.000000   1924.000000\n",
       "25%     73357.750000     22.000000   1972.000000\n",
       "50%    134752.500000     24.000000   1994.000000\n",
       "75%    205753.250000     28.000000   2006.000000\n",
       "max    271115.000000     58.000000   2014.000000"
      ]
     },
     "execution_count": 156,
     "metadata": {},
     "output_type": "execute_result"
    }
   ],
   "source": [
    "# Know the count,mean,max,min,standard deviation values for numerical columns in winter games dataframe. \n",
    "winter_games_df.describe()"
   ]
  },
  {
   "cell_type": "code",
   "execution_count": 157,
   "metadata": {},
   "outputs": [
    {
     "data": {
      "text/plain": [
       "array([1988, 1992, 1994, 2002, 1980, 2014, 1998, 2006, 1960, 1964, 1984,\n",
       "       1952, 1956, 2010, 1968, 1972, 1976, 1924, 1928, 1948, 1932, 1936],\n",
       "      dtype=int64)"
      ]
     },
     "execution_count": 157,
     "metadata": {},
     "output_type": "execute_result"
    }
   ],
   "source": [
    "winter_games_df['Year'].unique()"
   ]
  },
  {
   "cell_type": "code",
   "execution_count": 158,
   "metadata": {},
   "outputs": [
    {
     "data": {
      "text/plain": [
       "United States                  3321\n",
       "Canada                         2590\n",
       "Norway                         2328\n",
       "Sweden                         2231\n",
       "Italy                          2209\n",
       "                               ... \n",
       "Uruguay                           1\n",
       "Ghana                             1\n",
       "Individual Olympic Athletes       1\n",
       "Tonga                             1\n",
       "Paraguay                          1\n",
       "Name: Team, Length: 221, dtype: int64"
      ]
     },
     "execution_count": 158,
     "metadata": {},
     "output_type": "execute_result"
    }
   ],
   "source": [
    "# know how many teams participated in winter olympic games.\n",
    "winter_games_df['Team'].value_counts()"
   ]
  },
  {
   "cell_type": "code",
   "execution_count": 159,
   "metadata": {},
   "outputs": [
    {
     "data": {
      "text/plain": [
       "2014 Winter    4891\n",
       "2010 Winter    4402\n",
       "2006 Winter    4382\n",
       "2002 Winter    4109\n",
       "1998 Winter    3605\n",
       "1992 Winter    3436\n",
       "1994 Winter    3160\n",
       "1988 Winter    2639\n",
       "1984 Winter    2134\n",
       "1968 Winter    1891\n",
       "1976 Winter    1861\n",
       "1964 Winter    1778\n",
       "1980 Winter    1746\n",
       "1972 Winter    1655\n",
       "1956 Winter    1307\n",
       "1960 Winter    1116\n",
       "1952 Winter    1088\n",
       "1948 Winter    1075\n",
       "1936 Winter     895\n",
       "1928 Winter     582\n",
       "1924 Winter     460\n",
       "1932 Winter     352\n",
       "Name: Games, dtype: int64"
      ]
     },
     "execution_count": 159,
     "metadata": {},
     "output_type": "execute_result"
    }
   ],
   "source": [
    "# Yearly report of Number of games held in olympics \n",
    "winter_games_df['Games'].value_counts()"
   ]
  },
  {
   "cell_type": "code",
   "execution_count": 160,
   "metadata": {},
   "outputs": [
    {
     "data": {
      "text/plain": [
       "array([1988, 1992, 1994, 2002, 1980, 2014, 1998, 2006, 1960, 1964, 1984,\n",
       "       1952, 1956, 2010, 1968, 1972, 1976, 1924, 1928, 1948, 1932, 1936],\n",
       "      dtype=int64)"
      ]
     },
     "execution_count": 160,
     "metadata": {},
     "output_type": "execute_result"
    }
   ],
   "source": [
    "winter_games_df['Year'].unique()"
   ]
  },
  {
   "cell_type": "code",
   "execution_count": 161,
   "metadata": {},
   "outputs": [
    {
     "data": {
      "text/plain": [
       "Cross Country Skiing         9133\n",
       "Alpine Skiing                8829\n",
       "Speed Skating                5613\n",
       "Ice Hockey                   5456\n",
       "Biathlon                     4893\n",
       "Bobsleigh                    3058\n",
       "Ski Jumping                  2401\n",
       "Figure Skating               2244\n",
       "Short Track Speed Skating    1534\n",
       "Luge                         1479\n",
       "Nordic Combined              1344\n",
       "Freestyle Skiing              937\n",
       "Snowboarding                  936\n",
       "Curling                       463\n",
       "Skeleton                      199\n",
       "Military Ski Patrol            24\n",
       "Alpinism                       21\n",
       "Name: Sport, dtype: int64"
      ]
     },
     "execution_count": 161,
     "metadata": {},
     "output_type": "execute_result"
    }
   ],
   "source": [
    "\n",
    "winter_games_df['Sport'].value_counts()"
   ]
  },
  {
   "cell_type": "code",
   "execution_count": 162,
   "metadata": {},
   "outputs": [
    {
     "data": {
      "text/plain": [
       "Gold      1913\n",
       "Silver    1896\n",
       "Bronze    1886\n",
       "Name: Medal, dtype: int64"
      ]
     },
     "execution_count": 162,
     "metadata": {},
     "output_type": "execute_result"
    }
   ],
   "source": [
    "\n",
    "winter_games_df['Medal'].value_counts()"
   ]
  },
  {
   "cell_type": "code",
   "execution_count": 163,
   "metadata": {},
   "outputs": [
    {
     "data": {
      "text/plain": [
       "Team          Year  Event                           \n",
       "Albania       2006  Alpine Skiing Men's Giant Slalom    1\n",
       "                    Alpine Skiing Men's Slalom          1\n",
       "                    Alpine Skiing Men's Super G         1\n",
       "              2010  Alpine Skiing Men's Giant Slalom    1\n",
       "                    Alpine Skiing Men's Slalom          1\n",
       "                                                       ..\n",
       "Yugoslavia-2  1984  Bobsleigh Men's Four                4\n",
       "                    Bobsleigh Men's Two                 2\n",
       "              1992  Bobsleigh Men's Two                 2\n",
       "Zimbabwe      2014  Alpine Skiing Men's Giant Slalom    1\n",
       "                    Alpine Skiing Men's Slalom          1\n",
       "Name: Event, Length: 16956, dtype: int64"
      ]
     },
     "execution_count": 163,
     "metadata": {},
     "output_type": "execute_result"
    }
   ],
   "source": [
    "# Know all the events that teams had participated in respective years \n",
    "\n",
    "winter_games_df.groupby([\"Team\",\"Year\"])[\"Event\"].value_counts()"
   ]
  },
  {
   "cell_type": "code",
   "execution_count": 164,
   "metadata": {},
   "outputs": [
    {
     "data": {
      "text/plain": [
       "24.0    187\n",
       "25.0    170\n",
       "23.0    162\n",
       "26.0    155\n",
       "27.0    151\n",
       "Name: Age, dtype: int64"
      ]
     },
     "execution_count": 164,
     "metadata": {},
     "output_type": "execute_result"
    }
   ],
   "source": [
    "# Which age has won most of the gold medal\n",
    "\n",
    "winter_games_df.loc[winter_games_df['Medal'] == 'Gold']['Age'].value_counts().head()\n"
   ]
  },
  {
   "cell_type": "code",
   "execution_count": 165,
   "metadata": {},
   "outputs": [
    {
     "data": {
      "text/html": [
       "<div>\n",
       "<style scoped>\n",
       "    .dataframe tbody tr th:only-of-type {\n",
       "        vertical-align: middle;\n",
       "    }\n",
       "\n",
       "    .dataframe tbody tr th {\n",
       "        vertical-align: top;\n",
       "    }\n",
       "\n",
       "    .dataframe thead th {\n",
       "        text-align: right;\n",
       "    }\n",
       "</style>\n",
       "<table border=\"1\" class=\"dataframe\">\n",
       "  <thead>\n",
       "    <tr style=\"text-align: right;\">\n",
       "      <th></th>\n",
       "      <th></th>\n",
       "      <th>Medal</th>\n",
       "    </tr>\n",
       "    <tr>\n",
       "      <th>Sex</th>\n",
       "      <th>Medal</th>\n",
       "      <th></th>\n",
       "    </tr>\n",
       "  </thead>\n",
       "  <tbody>\n",
       "    <tr>\n",
       "      <th rowspan=\"3\" valign=\"top\">F</th>\n",
       "      <th>Gold</th>\n",
       "      <td>607</td>\n",
       "    </tr>\n",
       "    <tr>\n",
       "      <th>Silver</th>\n",
       "      <td>607</td>\n",
       "    </tr>\n",
       "    <tr>\n",
       "      <th>Bronze</th>\n",
       "      <td>597</td>\n",
       "    </tr>\n",
       "    <tr>\n",
       "      <th rowspan=\"3\" valign=\"top\">M</th>\n",
       "      <th>Gold</th>\n",
       "      <td>1306</td>\n",
       "    </tr>\n",
       "    <tr>\n",
       "      <th>Bronze</th>\n",
       "      <td>1289</td>\n",
       "    </tr>\n",
       "    <tr>\n",
       "      <th>Silver</th>\n",
       "      <td>1289</td>\n",
       "    </tr>\n",
       "  </tbody>\n",
       "</table>\n",
       "</div>"
      ],
      "text/plain": [
       "            Medal\n",
       "Sex Medal        \n",
       "F   Gold      607\n",
       "    Silver    607\n",
       "    Bronze    597\n",
       "M   Gold     1306\n",
       "    Bronze   1289\n",
       "    Silver   1289"
      ]
     },
     "execution_count": 165,
     "metadata": {},
     "output_type": "execute_result"
    }
   ],
   "source": [
    "#Count the number of gold,silver and bronze medals won by male and female.\n",
    "medals_by_sex =  winter_games_df.groupby([\"Sex\"])[\"Medal\"].value_counts().to_frame()\n",
    "medals_by_sex"
   ]
  },
  {
   "cell_type": "code",
   "execution_count": 166,
   "metadata": {},
   "outputs": [
    {
     "data": {
      "text/html": [
       "<div>\n",
       "<style scoped>\n",
       "    .dataframe tbody tr th:only-of-type {\n",
       "        vertical-align: middle;\n",
       "    }\n",
       "\n",
       "    .dataframe tbody tr th {\n",
       "        vertical-align: top;\n",
       "    }\n",
       "\n",
       "    .dataframe thead th {\n",
       "        text-align: right;\n",
       "    }\n",
       "</style>\n",
       "<table border=\"1\" class=\"dataframe\">\n",
       "  <thead>\n",
       "    <tr style=\"text-align: right;\">\n",
       "      <th></th>\n",
       "      <th>Medal</th>\n",
       "      <th>Bronze</th>\n",
       "      <th>Gold</th>\n",
       "      <th>Silver</th>\n",
       "    </tr>\n",
       "    <tr>\n",
       "      <th>Team</th>\n",
       "      <th>Year</th>\n",
       "      <th></th>\n",
       "      <th></th>\n",
       "      <th></th>\n",
       "    </tr>\n",
       "  </thead>\n",
       "  <tbody>\n",
       "    <tr>\n",
       "      <th rowspan=\"5\" valign=\"top\">Australia</th>\n",
       "      <th>1924</th>\n",
       "      <td>NaN</td>\n",
       "      <td>Alpinism Mixed Alpinism</td>\n",
       "      <td>NaN</td>\n",
       "    </tr>\n",
       "    <tr>\n",
       "      <th>1994</th>\n",
       "      <td>Short Track Speed Skating Men's 5,000 metres R...</td>\n",
       "      <td>NaN</td>\n",
       "      <td>NaN</td>\n",
       "    </tr>\n",
       "    <tr>\n",
       "      <th>1998</th>\n",
       "      <td>Alpine Skiing Women's Slalom</td>\n",
       "      <td>NaN</td>\n",
       "      <td>NaN</td>\n",
       "    </tr>\n",
       "    <tr>\n",
       "      <th>2002</th>\n",
       "      <td>NaN</td>\n",
       "      <td>Short Track Speed Skating Men's 1,000 metresFr...</td>\n",
       "      <td>NaN</td>\n",
       "    </tr>\n",
       "    <tr>\n",
       "      <th>2006</th>\n",
       "      <td>Freestyle Skiing Women's Aerials</td>\n",
       "      <td>Freestyle Skiing Men's Moguls</td>\n",
       "      <td>NaN</td>\n",
       "    </tr>\n",
       "    <tr>\n",
       "      <th>...</th>\n",
       "      <th>...</th>\n",
       "      <td>...</td>\n",
       "      <td>...</td>\n",
       "      <td>...</td>\n",
       "    </tr>\n",
       "    <tr>\n",
       "      <th rowspan=\"2\" valign=\"top\">West Germany-1</th>\n",
       "      <th>1984</th>\n",
       "      <td>NaN</td>\n",
       "      <td>Luge Mixed (Men)'s DoublesLuge Mixed (Men)'s D...</td>\n",
       "      <td>NaN</td>\n",
       "    </tr>\n",
       "    <tr>\n",
       "      <th>1988</th>\n",
       "      <td>Luge Mixed (Men)'s DoublesLuge Mixed (Men)'s D...</td>\n",
       "      <td>NaN</td>\n",
       "      <td>NaN</td>\n",
       "    </tr>\n",
       "    <tr>\n",
       "      <th>West Germany-2</th>\n",
       "      <th>1972</th>\n",
       "      <td>NaN</td>\n",
       "      <td>Bobsleigh Men's TwoBobsleigh Men's Two</td>\n",
       "      <td>NaN</td>\n",
       "    </tr>\n",
       "    <tr>\n",
       "      <th rowspan=\"2\" valign=\"top\">Yugoslavia</th>\n",
       "      <th>1984</th>\n",
       "      <td>NaN</td>\n",
       "      <td>NaN</td>\n",
       "      <td>Alpine Skiing Men's Giant Slalom</td>\n",
       "    </tr>\n",
       "    <tr>\n",
       "      <th>1988</th>\n",
       "      <td>Ski Jumping Men's Large Hill, Individual</td>\n",
       "      <td>NaN</td>\n",
       "      <td>Ski Jumping Men's Large Hill, TeamAlpine Skiin...</td>\n",
       "    </tr>\n",
       "  </tbody>\n",
       "</table>\n",
       "<p>534 rows × 3 columns</p>\n",
       "</div>"
      ],
      "text/plain": [
       "Medal                                                           Bronze  \\\n",
       "Team           Year                                                      \n",
       "Australia      1924                                                NaN   \n",
       "               1994  Short Track Speed Skating Men's 5,000 metres R...   \n",
       "               1998                       Alpine Skiing Women's Slalom   \n",
       "               2002                                                NaN   \n",
       "               2006                   Freestyle Skiing Women's Aerials   \n",
       "...                                                                ...   \n",
       "West Germany-1 1984                                                NaN   \n",
       "               1988  Luge Mixed (Men)'s DoublesLuge Mixed (Men)'s D...   \n",
       "West Germany-2 1972                                                NaN   \n",
       "Yugoslavia     1984                                                NaN   \n",
       "               1988           Ski Jumping Men's Large Hill, Individual   \n",
       "\n",
       "Medal                                                             Gold  \\\n",
       "Team           Year                                                      \n",
       "Australia      1924                            Alpinism Mixed Alpinism   \n",
       "               1994                                                NaN   \n",
       "               1998                                                NaN   \n",
       "               2002  Short Track Speed Skating Men's 1,000 metresFr...   \n",
       "               2006                      Freestyle Skiing Men's Moguls   \n",
       "...                                                                ...   \n",
       "West Germany-1 1984  Luge Mixed (Men)'s DoublesLuge Mixed (Men)'s D...   \n",
       "               1988                                                NaN   \n",
       "West Germany-2 1972             Bobsleigh Men's TwoBobsleigh Men's Two   \n",
       "Yugoslavia     1984                                                NaN   \n",
       "               1988                                                NaN   \n",
       "\n",
       "Medal                                                           Silver  \n",
       "Team           Year                                                     \n",
       "Australia      1924                                                NaN  \n",
       "               1994                                                NaN  \n",
       "               1998                                                NaN  \n",
       "               2002                                                NaN  \n",
       "               2006                                                NaN  \n",
       "...                                                                ...  \n",
       "West Germany-1 1984                                                NaN  \n",
       "               1988                                                NaN  \n",
       "West Germany-2 1972                                                NaN  \n",
       "Yugoslavia     1984                   Alpine Skiing Men's Giant Slalom  \n",
       "               1988  Ski Jumping Men's Large Hill, TeamAlpine Skiin...  \n",
       "\n",
       "[534 rows x 3 columns]"
      ]
     },
     "execution_count": 166,
     "metadata": {},
     "output_type": "execute_result"
    }
   ],
   "source": [
    "# Using pivot table for better understanding to see all the teams who won which medal for which sport in which year.\n",
    "winter_games_pt = winter_games_df.pivot_table(\"Event\", [\"Team\", \"Year\"], \"Medal\", aggfunc = np.sum) \n",
    "winter_games_pt"
   ]
  },
  {
   "cell_type": "code",
   "execution_count": 167,
   "metadata": {},
   "outputs": [
    {
     "data": {
      "text/plain": [
       "Unnamed: 0  Name   Sex    Age    Team   NOC    Games  Year   Season  City   Sport  Event  Medal\n",
       "False       False  False  False  False  False  False  False  False   False  False  False  True     42595\n",
       "                                                                                          False     5684\n",
       "                          True   False  False  False  False  False   False  False  False  True       274\n",
       "                                                                                          False       11\n",
       "dtype: int64"
      ]
     },
     "execution_count": 167,
     "metadata": {},
     "output_type": "execute_result"
    }
   ],
   "source": [
    "# Know the null values\n",
    "winter_games_df.isnull().value_counts()"
   ]
  },
  {
   "cell_type": "code",
   "execution_count": 168,
   "metadata": {},
   "outputs": [
    {
     "data": {
      "text/plain": [
       "True     42869\n",
       "False     5695\n",
       "Name: Medal, dtype: int64"
      ]
     },
     "execution_count": 168,
     "metadata": {},
     "output_type": "execute_result"
    }
   ],
   "source": [
    "# Know the null values that are present in Medal column.\n",
    "# In this we can clearly see that Medal column has 42869 null values and 5695 non null values.\n",
    "winter_games_df[\"Medal\"].isnull().value_counts()"
   ]
  },
  {
   "cell_type": "code",
   "execution_count": 169,
   "metadata": {},
   "outputs": [
    {
     "data": {
      "text/plain": [
       "False    48279\n",
       "True       285\n",
       "Name: Age, dtype: int64"
      ]
     },
     "execution_count": 169,
     "metadata": {},
     "output_type": "execute_result"
    }
   ],
   "source": [
    "# Know the null values that are present in Age column.\n",
    "# In this we can clearly see that Age column has 285 null values and 48279 non null values.\n",
    "winter_games_df[\"Age\"].isnull().value_counts()"
   ]
  },
  {
   "cell_type": "code",
   "execution_count": 170,
   "metadata": {},
   "outputs": [
    {
     "data": {
      "text/plain": [
       "Canada           289\n",
       "Soviet Union     228\n",
       "Norway           151\n",
       "United States    141\n",
       "Sweden           125\n",
       "Germany          115\n",
       "Russia            72\n",
       "Austria           67\n",
       "Finland           66\n",
       "South Korea       50\n",
       "Name: Team, dtype: int64"
      ]
     },
     "execution_count": 170,
     "metadata": {},
     "output_type": "execute_result"
    }
   ],
   "source": [
    "# Top 10 teams who won more gold medals in olympic winter games.\n",
    "\n",
    "top10_gold_winners = winter_games_df.loc[winter_games_df['Medal'] == 'Gold']['Team'].value_counts().head(10)\n",
    "top10_gold_winners"
   ]
  },
  {
   "cell_type": "code",
   "execution_count": 171,
   "metadata": {},
   "outputs": [
    {
     "data": {
      "text/html": [
       "<div>\n",
       "<style scoped>\n",
       "    .dataframe tbody tr th:only-of-type {\n",
       "        vertical-align: middle;\n",
       "    }\n",
       "\n",
       "    .dataframe tbody tr th {\n",
       "        vertical-align: top;\n",
       "    }\n",
       "\n",
       "    .dataframe thead th {\n",
       "        text-align: right;\n",
       "    }\n",
       "</style>\n",
       "<table border=\"1\" class=\"dataframe\">\n",
       "  <thead>\n",
       "    <tr style=\"text-align: right;\">\n",
       "      <th></th>\n",
       "      <th>Unnamed: 0</th>\n",
       "      <th>Age</th>\n",
       "      <th>Year</th>\n",
       "    </tr>\n",
       "  </thead>\n",
       "  <tbody>\n",
       "    <tr>\n",
       "      <th>Unnamed: 0</th>\n",
       "      <td>1.000000</td>\n",
       "      <td>0.001207</td>\n",
       "      <td>0.027029</td>\n",
       "    </tr>\n",
       "    <tr>\n",
       "      <th>Age</th>\n",
       "      <td>0.001207</td>\n",
       "      <td>1.000000</td>\n",
       "      <td>0.056932</td>\n",
       "    </tr>\n",
       "    <tr>\n",
       "      <th>Year</th>\n",
       "      <td>0.027029</td>\n",
       "      <td>0.056932</td>\n",
       "      <td>1.000000</td>\n",
       "    </tr>\n",
       "  </tbody>\n",
       "</table>\n",
       "</div>"
      ],
      "text/plain": [
       "            Unnamed: 0       Age      Year\n",
       "Unnamed: 0    1.000000  0.001207  0.027029\n",
       "Age           0.001207  1.000000  0.056932\n",
       "Year          0.027029  0.056932  1.000000"
      ]
     },
     "execution_count": 171,
     "metadata": {},
     "output_type": "execute_result"
    }
   ],
   "source": [
    "# Correlation\n",
    "winter_games_df.corr()\n",
    "\n",
    "#there is not much to correlate in this dataset."
   ]
  },
  {
   "cell_type": "markdown",
   "metadata": {
    "azdata_cell_guid": "d45060f3-97bc-484a-9ef4-66145bbe9427"
   },
   "source": [
    "## Visualize\n",
    "\n",
    "Create any visualizations for your EDA here. Make note in the form of code comments of what your thought process is for your visualizations."
   ]
  },
  {
   "cell_type": "code",
   "execution_count": 172,
   "metadata": {},
   "outputs": [
    {
     "data": {
      "image/png": "[encoded data removed]",
      "text/plain": [
       "<Figure size 2000x1000 with 1 Axes>"
      ]
     },
     "metadata": {},
     "output_type": "display_data"
    }
   ],
   "source": [
    "# Plot a bar chart for Number of performances of each sport in Winter Olympics\n",
    "\n",
    "style.use('ggplot')\n",
    "sns.histplot(winter_games_df['Sport'], color='darkblue')\n",
    "plt.title('Number of performances of each sport in Winter Olympics',color = 'red',size=20)\n",
    "plt.xticks(color = 'black',size=15,rotation=90)\n",
    "plt.yticks(color = 'black',size=15)\n",
    "plt.xlabel('Sports in Winter Olympics',color = 'red',size=20)\n",
    "plt.ylabel('Number of performances',color = 'red',size=20)\n",
    "plt.savefig('vertical_bar_chart.png')\n",
    "plt.show()"
   ]
  },
  {
   "cell_type": "code",
   "execution_count": 173,
   "metadata": {},
   "outputs": [
    {
     "data": {
      "image/png": "[encoded data removed]",
      "text/plain": [
       "<Figure size 2000x1000 with 1 Axes>"
      ]
     },
     "metadata": {},
     "output_type": "display_data"
    }
   ],
   "source": [
    "# Histogram\n",
    "sns.histplot(winter_games_df['Age'], color='red')\n",
    "plt.title('Number of players according to their Age ',color = 'black',size=20)\n",
    "plt.xticks(color = 'black',size=15)\n",
    "plt.yticks(color = 'black',size=15)\n",
    "plt.xlabel('Age',color = 'black',size=20)\n",
    "plt.ylabel('Count',color = 'black',size=20)\n",
    "plt.savefig('histogram.png')\n",
    "plt.show()"
   ]
  },
  {
   "cell_type": "code",
   "execution_count": null,
   "metadata": {},
   "outputs": [],
   "source": [
    "# Plot a bar chart for the number of gold,silver and bronze medals won by male and female.\n",
    "\n",
    "df_group = winter_games_df.groupby([\"Sex\"])['Medal'].value_counts()\n",
    "df_group\n",
    "\n",
    "df_group.plot.bar(color='hotpink',edgecolor = 'yellow')\n",
    "plt.title('Number of Medals won by Male and Female',color = 'black')\n",
    "plt.xticks(color = 'black',size=20)\n",
    "plt.yticks(color = 'black',size=20)\n",
    "plt.xlabel('Sex',color = 'black')\n",
    "plt.ylabel('Number of Medals',color = 'black')\n",
    "plt.legend(title = 'Medals', fontsize = 12 , labelcolor='black')\n",
    "plt.savefig('bar_chart.png')\n",
    "\n",
    "plt.show()"
   ]
  },
  {
   "cell_type": "code",
   "execution_count": null,
   "metadata": {
    "azdata_cell_guid": "f4565b03-759a-47a8-b58f-01b32a0b4b67"
   },
   "outputs": [],
   "source": [
    "# Plot a Horizontal bar chart for Top 10 teams who won more gold medals in olympic winter games.\n",
    "\n",
    "import mplcyberpunk\n",
    "style.use('cyberpunk')\n",
    "\n",
    "top10_gold_winners.plot.barh(edgecolor = 'yellow')\n",
    "plt.title('Top 10 teams who won more gold medals in olympic winter games',color = 'yellow',size=30)\n",
    "plt.xticks(color = 'hotpink',size=20)\n",
    "plt.yticks(color = 'hotpink',size=20)\n",
    "plt.xlabel('Number of Gold Medals',color = 'orange',size=30)\n",
    "plt.ylabel('Top 10 Teams',color = 'orange',size=30)\n",
    "plt.show()\n",
    "\n",
    "plt.savefig('Horizontal_bar_chart.png')\n",
    "\n",
    "plt.show()\n",
    "\n",
    "\n"
   ]
  },
  {
   "cell_type": "markdown",
   "metadata": {
    "azdata_cell_guid": "d4931c0c-2c09-4ee1-95d4-73dd08c2f0a6"
   },
   "source": [
    "## Summarize Your Results\n",
    "\n",
    "With your EDA complete, answer the following questions.\n",
    "\n",
    "1. Was there anything surprising about your dataset?\n",
    "\n",
    "Winter olympic games got cancelled years - 1940 and 1944. so in our dataset there is no 1940 and 1944 year games.Also we can see that after 1992 again the next olympic happened in 1994 because to change the schedule of the Olympic Games so that the Summer and Winter Games would be held in different years.\n",
    "\n",
    "2. Do you have any concerns about your dataset? \n",
    "\n",
    "Medal column has an object data type.For performing sum,count,max,min calculation we need that Medal column should be an int data type.\n",
    "\n",
    "3. Is there anything you want to make note of for the next phase of your analysis, which is cleaning data? \n",
    "\n",
    "This dataset has null values in Age column and Medal Column. So for better understanding we need to sort this missing values."
   ]
  }
 ],
 "metadata": {
  "kernelspec": {
   "display_name": "Python 3 (ipykernel)",
   "language": "python",
   "name": "python3"
  },
  "language_info": {
   "codemirror_mode": {
    "name": "ipython",
    "version": 3
   },
   "file_extension": ".py",
   "mimetype": "text/x-python",
   "name": "python",
   "nbconvert_exporter": "python",
   "pygments_lexer": "ipython3",
   "version": "3.9.13"
  }
 },
 "nbformat": 4,
 "nbformat_minor": 2
}
